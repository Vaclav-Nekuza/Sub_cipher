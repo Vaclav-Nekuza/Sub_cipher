{
 "cells": [
  {
   "cell_type": "code",
   "execution_count": 3,
   "id": "9aa3d4f9-9eaa-4870-8d9c-74996555bff6",
   "metadata": {
    "ExecuteTime": {
     "end_time": "2025-06-15T16:41:45.978205Z",
     "start_time": "2025-06-15T16:41:45.944366Z"
    }
   },
   "outputs": [],
   "source": [
    "import sys\n",
    "sys.path.append(r'D:\\dev\\unicorn_ales_marsicek\\python')\n",
    "from jupyter_apl import main"
   ]
  },
  {
   "cell_type": "code",
   "execution_count": 4,
   "id": "8bc37957-5ebc-4619-af78-87adb82c6e99",
   "metadata": {},
   "outputs": [
    {
     "name": "stdout",
     "output_type": "stream",
     "text": [
      "Loaded ciphertext: TWKWVHBSQCZHNBDRWKCJBOZHENWKEPBEPBEWGJBXWEBZINGVWBKDJYUPSWBOJGVWRVPBOZWQBGVPSYBNHEQDWGJBSIQVPENWBOZJ...\n",
      "Iter 0: New best score -> -8351.77\n",
      "Iter 1: New best score -> -8294.26\n",
      "Iter 2: New best score -> -8252.44\n",
      "Iter 4: New best score -> -7768.01\n",
      "Iter 7: New best score -> -7678.75\n",
      "Iter 8: New best score -> -7519.38\n",
      "Iter 10: New best score -> -7238.72\n",
      "Iter 11: New best score -> -6730.16\n",
      "Iter 12: New best score -> -6122.63\n",
      "Iter 13: New best score -> -5698.13\n",
      "Iter 17: New best score -> -5292.81\n",
      "Iter 21: New best score -> -5182.98\n",
      "Iter 23: New best score -> -4945.12\n",
      "Iter 26: New best score -> -4927.40\n",
      "Iter 36: New best score -> -4456.25\n",
      "Iter 39: New best score -> -4354.32\n",
      "Iter 48: New best score -> -4334.40\n",
      "Iter 52: New best score -> -4141.63\n",
      "Iter 67: New best score -> -4114.52\n",
      "Iter 69: New best score -> -4073.49\n",
      "Iter 70: New best score -> -4038.64\n",
      "Iter 72: New best score -> -3944.64\n",
      "Iter 90: New best score -> -3908.75\n",
      "Iter 94: New best score -> -3895.73\n",
      "Iter 97: New best score -> -3848.29\n",
      "Iter 108: New best score -> -3699.77\n",
      "Iter 115: New best score -> -3681.83\n",
      "Iter 118: New best score -> -3614.33\n",
      "Iter 123: New best score -> -3607.95\n",
      "Iter 126: New best score -> -3572.82\n",
      "Iter 141: New best score -> -3541.65\n",
      "Iter 146: New best score -> -3516.82\n",
      "Iter 148: New best score -> -3509.08\n",
      "Iter 155: New best score -> -3482.77\n",
      "Iter 171: New best score -> -3466.81\n",
      "Iter 173: New best score -> -3375.96\n",
      "Iter 177: New best score -> -3222.20\n",
      "Iter 188: New best score -> -3201.61\n",
      "Iter 189: New best score -> -3141.12\n",
      "Iter 190: New best score -> -3101.97\n",
      "Iter 202: New best score -> -3097.41\n",
      "Iter 213: New best score -> -3076.51\n",
      "Iter 248: New best score -> -3062.92\n",
      "Iter 260: New best score -> -2989.40\n",
      "Iter 270: New best score -> -2934.98\n",
      "Iter 277: New best score -> -2932.64\n",
      "Iter 286: New best score -> -2932.25\n",
      "Iter 289: New best score -> -2925.25\n",
      "Iter 318: New best score -> -2917.91\n",
      "Iter 340: New best score -> -2913.72\n",
      "Iter 395: New best score -> -2905.67\n",
      "Iter 400: New best score -> -2864.54\n",
      "Iter 495: New best score -> -2817.55\n",
      "Iter 578: New best score -> -2571.33\n",
      "Iter 706: New best score -> -2553.65\n",
      "Iter 730: New best score -> -2541.14\n",
      "Iter 937: New best score -> -2539.04\n",
      "Iter 967: New best score -> -2531.05\n",
      "Iter 1106: New best score -> -2513.71\n",
      "Iter 1322: New best score -> -2476.31\n",
      "Iter 1414: New best score -> -2450.34\n",
      "Iter 1459: New best score -> -2433.04\n",
      "Iter 1479: New best score -> -2415.32\n",
      "Iter 1581: New best score -> -2414.93\n",
      "Iter 1630: New best score -> -2376.34\n",
      "Early stopping at iteration 6631 due to no improvement in best_score.\n",
      "\n",
      "----------RESULTS----------\n",
      "Found Key: PTNRWMLGHXDVUEJOFZQCYS_AIKB\n",
      "Decrypted Text: BEZELI_VSTRIC_KDEZTO_PRINCEZNA_NA_NEHO_JEN_RYCHLE_ZKOUMAVE_POHLEDLA_PRES_HLAVU_CINSKEHO_VYSLANCE_PROKOP_SI_MYSLEL_ZE_HO_PRIJDE_UVITAT_ALE_KDYZ_VIDEL_ZE_SE_ZASTAVILA_S_DVEMA_STARSIMI_AZ_PO_PUPEK_DEKOLETOVANYMI_PANICKAMI_ZAMRACIL_SE_A_COUVAL_DO_KOUTA_NEOCHOTNE_SE_UKLANEJE_NARAMNYM_OSOBNOSTEM_KTERYM_HO_PAN_CARSON_PREDSTAVOVAL_POD_TITULEM_SLAVNEHO_UCENCE_NASEHO_SLAVNEHO_HOSTA_A_TAK_DALE_JAK_SE_ZDALO_PREVZAL_TU_PAN_CARSON_ROLI_HOLZOVU_NEBOT_NEHNUL_SE_OD_PROKOPA_NA_KROK_CIM_DAL_TIM_SE_PROKOP_NUDIL_ZOUGALEJI_VTLACIL_SE_UZ_DOCELA_DO_KOUTA_A_SKAREDIL_NA_CELY_SVET_TED_MLUVI_PRINCEZNA_S_NEJAKYMI_ARCIHODNOSTARI_JEDEN_Z_NICH_JE_DOKONCE_ADMIRAL_A_DRUHY_VELIKE_ZAHRANICNI_ZVIRE_PRINCEZNA_SE_KVAPNE_PODIVA_STRANOU_KDE_SE_KABONI_PROKOP_ALE_V_TU_CHVILI_K_NI_PRISTUPUJE_PRETENDENT_JISTEHO_ZRUSENEHO_TRUNU_A_ODVADI_JI_NA_OPACNOU_STRANU_NU_JA_PUJDU_DOMU_BRUCI_PROKOP_A_ROZHODUJE_SE_V_HLOUBI_SVE_CERNE_DUSE_ZE_DO_TRI_DNU_UDELA_NOVY_POKUS_O_UTEK_V_TOM_OKAMZIKU_STOJI_PRED_NIM_PRINCEZNA_A_PODAVA_MU_RUKU_JSEM_RADA_ZE\n",
      "\n",
      "Key saved to: bigram/export/text_1000_sample_20_key.txt\n",
      "Plaintext saved to: bigram/export/text_1000_sample_20_plaintext.txt\n"
     ]
    }
   ],
   "source": [
    "main()"
   ]
  }
 ],
 "metadata": {
  "kernelspec": {
   "display_name": "Python [conda env:base] *",
   "language": "python",
   "name": "conda-base-py"
  },
  "language_info": {
   "codemirror_mode": {
    "name": "ipython",
    "version": 3
   },
   "file_extension": ".py",
   "mimetype": "text/x-python",
   "name": "python",
   "nbconvert_exporter": "python",
   "pygments_lexer": "ipython3",
   "version": "3.12.7"
  }
 },
 "nbformat": 4,
 "nbformat_minor": 5
}
